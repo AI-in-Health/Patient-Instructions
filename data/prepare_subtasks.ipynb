{
 "cells": [
  {
   "cell_type": "code",
   "execution_count": 1,
   "metadata": {},
   "outputs": [],
   "source": [
    "import csv\n",
    "import os\n",
    "import json\n",
    "import re\n",
    "import copy\n",
    "import pickle\n",
    "import pandas as pd\n",
    "from tqdm import tqdm\n",
    "from collections import defaultdict"
   ]
  },
  {
   "cell_type": "markdown",
   "metadata": {},
   "source": [
    "# get age & sex info of subjects"
   ]
  },
  {
   "cell_type": "code",
   "execution_count": 2,
   "metadata": {},
   "outputs": [],
   "source": [
    "def prepare_subject_key_info(\n",
    "        splits_path='./splits',\n",
    "        splits=['train', 'val', 'test'],\n",
    "        subject_list_fn='subject_list.txt', \n",
    "        read_path='./subjects_with_PI',\n",
    "        info_fn='age_sex_info.json',\n",
    "    ):    \n",
    "    assert os.path.exists(splits_path)\n",
    "    \n",
    "    subject_list_path = os.path.join('./', subject_list_fn)\n",
    "    if os.path.exists(subject_list_path):\n",
    "        subject_list = open(subject_list_path, 'r').read().strip().split('\\n')\n",
    "    else:\n",
    "        subject_list = set()\n",
    "        for split in tqdm(splits):\n",
    "            f = os.path.join(splits_path, split+'.csv')\n",
    "            f = pd.read_csv(f)\n",
    "            for i in tqdm(range(len(f))):\n",
    "                subject_list.add(f.iloc[i]['key'].split('_')[0])\n",
    "        subject_list = sorted(list(subject_list))\n",
    "        \n",
    "        with open(subject_list_path, 'w') as f:\n",
    "            f.write('\\n'.join(subject_list))\n",
    "\n",
    "    info_path = os.path.join(splits_path, info_fn)\n",
    "    if os.path.exists(info_path):\n",
    "        info = json.load(open(info_path, 'r'))\n",
    "    else:\n",
    "        info = {'subject_info': {}, 'key_info': {}}\n",
    "\n",
    "    RE_PI = r'discharge\\s*instructions.{0,30}:'\n",
    "    failed_age = set()\n",
    "\n",
    "    for id in tqdm(subject_list):\n",
    "        subject_path = os.path.join(read_path, id+'.csv')\n",
    "\n",
    "        with open(subject_path, 'r') as f:\n",
    "            reader = csv.reader(f, delimiter=',')\n",
    "            header = next(reader)\n",
    "            \n",
    "            sex_of_this_subject, possible_sex_of_this_subject, sex_diff = None, None, 0\n",
    "            age_of_this_subject, age_chartyear = None, None\n",
    "            the_first_discharge_year = None\n",
    "            \n",
    "            already_has_age = (id in info['subject_info']) and ('age' in info['subject_info'][id]) and info['subject_info'][id]['age'] < 200\n",
    "\n",
    "            for line in reader:\n",
    "                subject_id = line[1]\n",
    "                assert subject_id == id\n",
    "\n",
    "                if subject_id not in info['subject_info']:\n",
    "                    info['subject_info'][subject_id] = {}\n",
    "                info['subject_info'][subject_id]['keys'] = []\n",
    "                \n",
    "                text = line[-1].lower()\n",
    "\n",
    "                female = re.compile(r'\\sfemale').findall(text) \\\n",
    "                        + re.compile(r'\\swoman\\s').findall(text) \\\n",
    "                        + re.compile(r'\\sshe\\s').findall(text) \\\n",
    "                        + re.compile(r'\\sher\\s').findall(text) \\\n",
    "                        + re.compile(r'\\s*elderly f[,\\s]').findall(text)\n",
    "                male = re.compile(r'\\smale').findall(text) \\\n",
    "                        + re.compile(r'\\sman\\s').findall(text) \\\n",
    "                        + re.compile(r'\\she\\s').findall(text) \\\n",
    "                        + re.compile(r'\\shis\\s').findall(text) \\\n",
    "                        + re.compile(r'\\s*elderly m\\s*').findall(text)\n",
    "                \n",
    "                diff = (abs(len(female) - len(male))) / max(1, min([len(female), len(male)]))\n",
    "                if diff > sex_diff:\n",
    "                    sex_diff = diff\n",
    "                    if len(female) > len(male):\n",
    "                        possible_sex_of_this_subject = 'f'\n",
    "                    elif len(male) > len(female):\n",
    "                        possible_sex_of_this_subject = 'm'\n",
    "                \n",
    "                if age_of_this_subject is None and not already_has_age:\n",
    "                    age_chartyear = int(line[3].split('-')[0])\n",
    "\n",
    "                    age_range = re.compile(r'\\[\\*\\*age\\s*over\\s*(\\d*?)\\s\\S*\\*\\*\\]').findall(text)\n",
    "                    if len(age_range) and int(age_range[0]) < 200:\n",
    "                        # we can only know the lower bound of pt's age\n",
    "                        age_of_this_subject = int(age_range[0])\n",
    "                    else:\n",
    "                        age = re.compile(r'\\D(\\d+?) y.\\s*o.\\s*').findall(text) \\\n",
    "                            + re.compile(r'\\D*(\\d+?)\\s*yo\\b').findall(text) \\\n",
    "                            + re.compile(r'\\D*(\\d+?)\\s*yo[fm]\\b').findall(text) \\\n",
    "                            + re.compile(r'\\D(\\d+?)\\Dyear\\Dold\\s').findall(text) \\\n",
    "                            + re.compile(r'\\D*(\\d+?)\\s*[FM]\\b').findall(line[-1])\n",
    "                        \n",
    "                        if len(age) and int(age[0]) < 200:\n",
    "                            # directly get pt's age\n",
    "                            age_of_this_subject = int(age[0])\n",
    "                        else:\n",
    "                            birthday = re.compile(r'date\\s*of\\s*birth:\\s*\\[\\*\\*(.*?)\\*\\*\\]').findall(text)\n",
    "                            if len(birthday):\n",
    "                                # calculate pt's age\n",
    "                                birthday_year = int(birthday[0].split('-')[0])\n",
    "                                assert age_chartyear >= birthday_year\n",
    "                                age_of_this_subject = age_chartyear - birthday_year\n",
    "                            else:\n",
    "                                age_vague = re.compile(r'\\s*elderly\\s*').findall(text)\n",
    "                                if len(age_vague):\n",
    "                                    # we define the age of elderly people as 60\n",
    "                                    age_of_this_subject = 60\n",
    "\n",
    "                if line[6].lower() == 'discharge summary' and line[7].lower() == 'report':\n",
    "                    if re.search(RE_PI, repr(text)) is None:\n",
    "                        continue\n",
    "\n",
    "                    chartyear = int(line[3].split('-')[0])\n",
    "\n",
    "                    if the_first_discharge_year is None:\n",
    "                        the_first_discharge_year = chartyear\n",
    "\n",
    "                    sex = re.compile(r'sex:\\s*([a-z]]*?)\\n').findall(text)\n",
    "                    if len(sex) > 0:\n",
    "                        if sex_of_this_subject is not None:                   \n",
    "                            assert sex_of_this_subject == sex[0], subject_id\n",
    "                        else:\n",
    "                            sex_of_this_subject = sex[0]\n",
    "                    \n",
    "                    admission_id = line[2]\n",
    "                    key = f'{subject_id}_{admission_id}'\n",
    "                    info['subject_info'][subject_id]['keys'].append(key)\n",
    "                    info['key_info'][key] = {'chartyear': chartyear}\n",
    "\n",
    "\n",
    "            sex = sex_of_this_subject or possible_sex_of_this_subject\n",
    "            assert sex\n",
    "            info['subject_info'][subject_id]['sex'] = sex\n",
    "\n",
    "            if not already_has_age:\n",
    "                if age_of_this_subject is None:\n",
    "                    failed_age.add(subject_id)\n",
    "                    info['subject_info'][subject_id]['age'] = 70\n",
    "                    info['subject_info'][subject_id]['year'] = the_first_discharge_year\n",
    "                else:\n",
    "                    info['subject_info'][subject_id]['age'] = age_of_this_subject\n",
    "                    info['subject_info'][subject_id]['year'] = age_chartyear\n",
    "    \n",
    "    if len(failed_age):\n",
    "        print('- Warning: we can not infer the age of subjects', failed_age)\n",
    "        print('- We deafult set the age of these subjects to 70')\n",
    "    \n",
    "    print('-'*100)\n",
    "    print('- Updating key info ...')\n",
    "    for key in tqdm(info['key_info']):\n",
    "        subject_id = key.split('_')[0]\n",
    "        info['key_info'][key]['sex'] = info['subject_info'][subject_id]['sex']\n",
    "        info['key_info'][key]['age'] = info['subject_info'][subject_id]['age'] \\\n",
    "                                    + info['key_info'][key]['chartyear'] \\\n",
    "                                    - info['subject_info'][subject_id]['year']\n",
    "        \n",
    "        if info['key_info'][key]['age'] <= 0:\n",
    "            print(info['subject_info'][subject_id]['age'], info['subject_info'][subject_id]['year'], info['key_info'][key]['chartyear'])\n",
    "            info['key_info'][key]['age'] = 1\n",
    "\n",
    "    json.dump(info, open(info_path, 'w'))"
   ]
  },
  {
   "cell_type": "code",
   "execution_count": 3,
   "metadata": {},
   "outputs": [
    {
     "name": "stderr",
     "output_type": "stream",
     "text": [
      "100%|██████████| 28029/28029 [43:09<00:00, 10.82it/s]  \n"
     ]
    },
    {
     "name": "stdout",
     "output_type": "stream",
     "text": [
      "- Warning: we can not infer the age of subjects {'19314', '16613', '32702'}\n",
      "- We deafult set the age of these subjects to 70\n",
      "----------------------------------------------------------------------------------------------------\n",
      "- Updating key info ...\n"
     ]
    },
    {
     "name": "stderr",
     "output_type": "stream",
     "text": [
      "100%|██████████| 36748/36748 [00:00<00:00, 309887.76it/s]\n"
     ]
    },
    {
     "name": "stdout",
     "output_type": "stream",
     "text": [
      "0 2103 2103\n",
      "0 2181 2181\n",
      "5 2206 2200\n"
     ]
    }
   ],
   "source": [
    "prepare_subject_key_info()"
   ]
  },
  {
   "cell_type": "markdown",
   "metadata": {},
   "source": [
    "# Subtask for different sexes"
   ]
  },
  {
   "cell_type": "code",
   "execution_count": 11,
   "metadata": {},
   "outputs": [
    {
     "name": "stdout",
     "output_type": "stream",
     "text": [
      "===== train =====\n",
      "There are 22423 subjects, 9629 females and 12794 males.\n",
      "There are 28673 hospital admissions, 12435 females and 16238 males.\n",
      "===== val =====\n",
      "There are 2803 subjects, 1223 females and 1580 males.\n",
      "There are 3557 hospital admissions, 1607 females and 1950 males.\n",
      "===== test =====\n",
      "There are 2803 subjects, 1267 females and 1536 males.\n",
      "There are 3621 hospital admissions, 1649 females and 1972 males.\n",
      "- Saving the subtask file to ./splits/subtasks/sex/test/f.txt\n",
      "- Saving the subtask file to ./splits/subtasks/sex/test/m.txt\n"
     ]
    }
   ],
   "source": [
    "info = json.load(open('./splits/age_sex_info.json', 'r'))\n",
    "for split in ['train', 'val', 'test']:\n",
    "    path = os.path.join('./splits/', split+'.csv')\n",
    "    df = pd.read_csv(path)\n",
    "\n",
    "    unique_subjects = set()\n",
    "    sex_count = {'f': 0, 'm': 0}\n",
    "    subtask_sex = {'f': [], 'm': []}\n",
    "    for i in range(len(df)):\n",
    "        key = df.iloc[i]['key']\n",
    "        id = key.split('_')[0]\n",
    "        if id not in unique_subjects:\n",
    "            unique_subjects.add(id)\n",
    "            sex_count[info['subject_info'][id]['sex']] += 1\n",
    "        \n",
    "        subtask_sex[info['subject_info'][id]['sex']].append(key)\n",
    "    \n",
    "    print(f'===== {split} =====')\n",
    "    print('There are %d subjects, %d females and %d males.' % (len(unique_subjects), sex_count['f'], sex_count['m']))\n",
    "    print('There are %d hospital admissions, %d females and %d males.' % (len(df), len(subtask_sex['f']), len(subtask_sex['m'])))\n",
    "\n",
    "    if split == 'test':\n",
    "        for k, v in subtask_sex.items():\n",
    "            save_path = f'./splits/subtasks/sex/{split}'\n",
    "            os.makedirs(save_path, exist_ok=True)\n",
    "            save_path = os.path.join(save_path, f'{k}.txt')\n",
    "            \n",
    "            print('- Saving the subtask file to', save_path)\n",
    "            with open(save_path, 'w') as f:\n",
    "                f.write('\\n'.join(v))"
   ]
  },
  {
   "cell_type": "markdown",
   "metadata": {},
   "source": [
    "# Subtask for different ages"
   ]
  },
  {
   "cell_type": "code",
   "execution_count": 5,
   "metadata": {},
   "outputs": [
    {
     "name": "stdout",
     "output_type": "stream",
     "text": [
      "===== train =====\n",
      "There are 28673 hospital admissions\n",
      "      0_55: 8447 (0.295)\n",
      "     55_70: 8752 (0.305)\n",
      "    70_200: 11474 (0.400)\n"
     ]
    },
    {
     "data": {
      "application/vnd.plotly.v1+json": {
       "config": {
        "linkText": "Export to plot.ly",
        "plotlyServerURL": "https://plot.ly",
        "showLink": false
       },
       "data": [
        {
         "marker": {
          "color": "red",
          "line": {
           "color": "red",
           "width": 0.1
          }
         },
         "type": "bar",
         "x": [
          0,
          1,
          2,
          3,
          4,
          5,
          6,
          7,
          8,
          9,
          10,
          11,
          12,
          13,
          14,
          15,
          16,
          17,
          18,
          19,
          20,
          21,
          22,
          23,
          24,
          25,
          26,
          27,
          28,
          29,
          30,
          31,
          32,
          33,
          34,
          35,
          36,
          37,
          38,
          39,
          40,
          41,
          42,
          43,
          44,
          45,
          46,
          47,
          48,
          49,
          50,
          51,
          52,
          53,
          54,
          55,
          56,
          57,
          58,
          59,
          60,
          61,
          62,
          63,
          64,
          65,
          66,
          67,
          68,
          69,
          70,
          71,
          72,
          73,
          74,
          75,
          76,
          77,
          78,
          79,
          80,
          81,
          82,
          83,
          84,
          85,
          86,
          87,
          88,
          89,
          90,
          91,
          92,
          93,
          94,
          95,
          96,
          97,
          98,
          99,
          100,
          101,
          102,
          103,
          104,
          105,
          106,
          107,
          108,
          109
         ],
         "y": [
          8,
          12,
          6,
          3,
          10,
          11,
          7,
          6,
          5,
          6,
          7,
          1,
          2,
          1,
          3,
          7,
          29,
          60,
          74,
          129,
          141,
          121,
          118,
          125,
          137,
          126,
          109,
          128,
          126,
          151,
          127,
          132,
          165,
          149,
          142,
          148,
          167,
          176,
          205,
          233,
          203,
          250,
          266,
          285,
          338,
          346,
          343,
          343,
          408,
          457,
          452,
          444,
          510,
          489,
          485,
          481,
          605,
          544,
          543,
          631,
          621,
          641,
          585,
          578,
          649,
          638,
          574,
          582,
          595,
          571,
          593,
          557,
          521,
          553,
          571,
          554,
          587,
          624,
          552,
          585,
          557,
          504,
          507,
          505,
          410,
          414,
          329,
          336,
          280,
          1083,
          112,
          57,
          35,
          27,
          23,
          7,
          4,
          4,
          2,
          0,
          3,
          1,
          0,
          0,
          1,
          1,
          1,
          1,
          1,
          1
         ]
        }
       ],
       "layout": {
        "template": {
         "data": {
          "bar": [
           {
            "error_x": {
             "color": "#2a3f5f"
            },
            "error_y": {
             "color": "#2a3f5f"
            },
            "marker": {
             "line": {
              "color": "#E5ECF6",
              "width": 0.5
             },
             "pattern": {
              "fillmode": "overlay",
              "size": 10,
              "solidity": 0.2
             }
            },
            "type": "bar"
           }
          ],
          "barpolar": [
           {
            "marker": {
             "line": {
              "color": "#E5ECF6",
              "width": 0.5
             },
             "pattern": {
              "fillmode": "overlay",
              "size": 10,
              "solidity": 0.2
             }
            },
            "type": "barpolar"
           }
          ],
          "carpet": [
           {
            "aaxis": {
             "endlinecolor": "#2a3f5f",
             "gridcolor": "white",
             "linecolor": "white",
             "minorgridcolor": "white",
             "startlinecolor": "#2a3f5f"
            },
            "baxis": {
             "endlinecolor": "#2a3f5f",
             "gridcolor": "white",
             "linecolor": "white",
             "minorgridcolor": "white",
             "startlinecolor": "#2a3f5f"
            },
            "type": "carpet"
           }
          ],
          "choropleth": [
           {
            "colorbar": {
             "outlinewidth": 0,
             "ticks": ""
            },
            "type": "choropleth"
           }
          ],
          "contour": [
           {
            "colorbar": {
             "outlinewidth": 0,
             "ticks": ""
            },
            "colorscale": [
             [
              0,
              "#0d0887"
             ],
             [
              0.1111111111111111,
              "#46039f"
             ],
             [
              0.2222222222222222,
              "#7201a8"
             ],
             [
              0.3333333333333333,
              "#9c179e"
             ],
             [
              0.4444444444444444,
              "#bd3786"
             ],
             [
              0.5555555555555556,
              "#d8576b"
             ],
             [
              0.6666666666666666,
              "#ed7953"
             ],
             [
              0.7777777777777778,
              "#fb9f3a"
             ],
             [
              0.8888888888888888,
              "#fdca26"
             ],
             [
              1,
              "#f0f921"
             ]
            ],
            "type": "contour"
           }
          ],
          "contourcarpet": [
           {
            "colorbar": {
             "outlinewidth": 0,
             "ticks": ""
            },
            "type": "contourcarpet"
           }
          ],
          "heatmap": [
           {
            "colorbar": {
             "outlinewidth": 0,
             "ticks": ""
            },
            "colorscale": [
             [
              0,
              "#0d0887"
             ],
             [
              0.1111111111111111,
              "#46039f"
             ],
             [
              0.2222222222222222,
              "#7201a8"
             ],
             [
              0.3333333333333333,
              "#9c179e"
             ],
             [
              0.4444444444444444,
              "#bd3786"
             ],
             [
              0.5555555555555556,
              "#d8576b"
             ],
             [
              0.6666666666666666,
              "#ed7953"
             ],
             [
              0.7777777777777778,
              "#fb9f3a"
             ],
             [
              0.8888888888888888,
              "#fdca26"
             ],
             [
              1,
              "#f0f921"
             ]
            ],
            "type": "heatmap"
           }
          ],
          "heatmapgl": [
           {
            "colorbar": {
             "outlinewidth": 0,
             "ticks": ""
            },
            "colorscale": [
             [
              0,
              "#0d0887"
             ],
             [
              0.1111111111111111,
              "#46039f"
             ],
             [
              0.2222222222222222,
              "#7201a8"
             ],
             [
              0.3333333333333333,
              "#9c179e"
             ],
             [
              0.4444444444444444,
              "#bd3786"
             ],
             [
              0.5555555555555556,
              "#d8576b"
             ],
             [
              0.6666666666666666,
              "#ed7953"
             ],
             [
              0.7777777777777778,
              "#fb9f3a"
             ],
             [
              0.8888888888888888,
              "#fdca26"
             ],
             [
              1,
              "#f0f921"
             ]
            ],
            "type": "heatmapgl"
           }
          ],
          "histogram": [
           {
            "marker": {
             "pattern": {
              "fillmode": "overlay",
              "size": 10,
              "solidity": 0.2
             }
            },
            "type": "histogram"
           }
          ],
          "histogram2d": [
           {
            "colorbar": {
             "outlinewidth": 0,
             "ticks": ""
            },
            "colorscale": [
             [
              0,
              "#0d0887"
             ],
             [
              0.1111111111111111,
              "#46039f"
             ],
             [
              0.2222222222222222,
              "#7201a8"
             ],
             [
              0.3333333333333333,
              "#9c179e"
             ],
             [
              0.4444444444444444,
              "#bd3786"
             ],
             [
              0.5555555555555556,
              "#d8576b"
             ],
             [
              0.6666666666666666,
              "#ed7953"
             ],
             [
              0.7777777777777778,
              "#fb9f3a"
             ],
             [
              0.8888888888888888,
              "#fdca26"
             ],
             [
              1,
              "#f0f921"
             ]
            ],
            "type": "histogram2d"
           }
          ],
          "histogram2dcontour": [
           {
            "colorbar": {
             "outlinewidth": 0,
             "ticks": ""
            },
            "colorscale": [
             [
              0,
              "#0d0887"
             ],
             [
              0.1111111111111111,
              "#46039f"
             ],
             [
              0.2222222222222222,
              "#7201a8"
             ],
             [
              0.3333333333333333,
              "#9c179e"
             ],
             [
              0.4444444444444444,
              "#bd3786"
             ],
             [
              0.5555555555555556,
              "#d8576b"
             ],
             [
              0.6666666666666666,
              "#ed7953"
             ],
             [
              0.7777777777777778,
              "#fb9f3a"
             ],
             [
              0.8888888888888888,
              "#fdca26"
             ],
             [
              1,
              "#f0f921"
             ]
            ],
            "type": "histogram2dcontour"
           }
          ],
          "mesh3d": [
           {
            "colorbar": {
             "outlinewidth": 0,
             "ticks": ""
            },
            "type": "mesh3d"
           }
          ],
          "parcoords": [
           {
            "line": {
             "colorbar": {
              "outlinewidth": 0,
              "ticks": ""
             }
            },
            "type": "parcoords"
           }
          ],
          "pie": [
           {
            "automargin": true,
            "type": "pie"
           }
          ],
          "scatter": [
           {
            "marker": {
             "colorbar": {
              "outlinewidth": 0,
              "ticks": ""
             }
            },
            "type": "scatter"
           }
          ],
          "scatter3d": [
           {
            "line": {
             "colorbar": {
              "outlinewidth": 0,
              "ticks": ""
             }
            },
            "marker": {
             "colorbar": {
              "outlinewidth": 0,
              "ticks": ""
             }
            },
            "type": "scatter3d"
           }
          ],
          "scattercarpet": [
           {
            "marker": {
             "colorbar": {
              "outlinewidth": 0,
              "ticks": ""
             }
            },
            "type": "scattercarpet"
           }
          ],
          "scattergeo": [
           {
            "marker": {
             "colorbar": {
              "outlinewidth": 0,
              "ticks": ""
             }
            },
            "type": "scattergeo"
           }
          ],
          "scattergl": [
           {
            "marker": {
             "colorbar": {
              "outlinewidth": 0,
              "ticks": ""
             }
            },
            "type": "scattergl"
           }
          ],
          "scattermapbox": [
           {
            "marker": {
             "colorbar": {
              "outlinewidth": 0,
              "ticks": ""
             }
            },
            "type": "scattermapbox"
           }
          ],
          "scatterpolar": [
           {
            "marker": {
             "colorbar": {
              "outlinewidth": 0,
              "ticks": ""
             }
            },
            "type": "scatterpolar"
           }
          ],
          "scatterpolargl": [
           {
            "marker": {
             "colorbar": {
              "outlinewidth": 0,
              "ticks": ""
             }
            },
            "type": "scatterpolargl"
           }
          ],
          "scatterternary": [
           {
            "marker": {
             "colorbar": {
              "outlinewidth": 0,
              "ticks": ""
             }
            },
            "type": "scatterternary"
           }
          ],
          "surface": [
           {
            "colorbar": {
             "outlinewidth": 0,
             "ticks": ""
            },
            "colorscale": [
             [
              0,
              "#0d0887"
             ],
             [
              0.1111111111111111,
              "#46039f"
             ],
             [
              0.2222222222222222,
              "#7201a8"
             ],
             [
              0.3333333333333333,
              "#9c179e"
             ],
             [
              0.4444444444444444,
              "#bd3786"
             ],
             [
              0.5555555555555556,
              "#d8576b"
             ],
             [
              0.6666666666666666,
              "#ed7953"
             ],
             [
              0.7777777777777778,
              "#fb9f3a"
             ],
             [
              0.8888888888888888,
              "#fdca26"
             ],
             [
              1,
              "#f0f921"
             ]
            ],
            "type": "surface"
           }
          ],
          "table": [
           {
            "cells": {
             "fill": {
              "color": "#EBF0F8"
             },
             "line": {
              "color": "white"
             }
            },
            "header": {
             "fill": {
              "color": "#C8D4E3"
             },
             "line": {
              "color": "white"
             }
            },
            "type": "table"
           }
          ]
         },
         "layout": {
          "annotationdefaults": {
           "arrowcolor": "#2a3f5f",
           "arrowhead": 0,
           "arrowwidth": 1
          },
          "autotypenumbers": "strict",
          "coloraxis": {
           "colorbar": {
            "outlinewidth": 0,
            "ticks": ""
           }
          },
          "colorscale": {
           "diverging": [
            [
             0,
             "#8e0152"
            ],
            [
             0.1,
             "#c51b7d"
            ],
            [
             0.2,
             "#de77ae"
            ],
            [
             0.3,
             "#f1b6da"
            ],
            [
             0.4,
             "#fde0ef"
            ],
            [
             0.5,
             "#f7f7f7"
            ],
            [
             0.6,
             "#e6f5d0"
            ],
            [
             0.7,
             "#b8e186"
            ],
            [
             0.8,
             "#7fbc41"
            ],
            [
             0.9,
             "#4d9221"
            ],
            [
             1,
             "#276419"
            ]
           ],
           "sequential": [
            [
             0,
             "#0d0887"
            ],
            [
             0.1111111111111111,
             "#46039f"
            ],
            [
             0.2222222222222222,
             "#7201a8"
            ],
            [
             0.3333333333333333,
             "#9c179e"
            ],
            [
             0.4444444444444444,
             "#bd3786"
            ],
            [
             0.5555555555555556,
             "#d8576b"
            ],
            [
             0.6666666666666666,
             "#ed7953"
            ],
            [
             0.7777777777777778,
             "#fb9f3a"
            ],
            [
             0.8888888888888888,
             "#fdca26"
            ],
            [
             1,
             "#f0f921"
            ]
           ],
           "sequentialminus": [
            [
             0,
             "#0d0887"
            ],
            [
             0.1111111111111111,
             "#46039f"
            ],
            [
             0.2222222222222222,
             "#7201a8"
            ],
            [
             0.3333333333333333,
             "#9c179e"
            ],
            [
             0.4444444444444444,
             "#bd3786"
            ],
            [
             0.5555555555555556,
             "#d8576b"
            ],
            [
             0.6666666666666666,
             "#ed7953"
            ],
            [
             0.7777777777777778,
             "#fb9f3a"
            ],
            [
             0.8888888888888888,
             "#fdca26"
            ],
            [
             1,
             "#f0f921"
            ]
           ]
          },
          "colorway": [
           "#636efa",
           "#EF553B",
           "#00cc96",
           "#ab63fa",
           "#FFA15A",
           "#19d3f3",
           "#FF6692",
           "#B6E880",
           "#FF97FF",
           "#FECB52"
          ],
          "font": {
           "color": "#2a3f5f"
          },
          "geo": {
           "bgcolor": "white",
           "lakecolor": "white",
           "landcolor": "#E5ECF6",
           "showlakes": true,
           "showland": true,
           "subunitcolor": "white"
          },
          "hoverlabel": {
           "align": "left"
          },
          "hovermode": "closest",
          "mapbox": {
           "style": "light"
          },
          "paper_bgcolor": "white",
          "plot_bgcolor": "#E5ECF6",
          "polar": {
           "angularaxis": {
            "gridcolor": "white",
            "linecolor": "white",
            "ticks": ""
           },
           "bgcolor": "#E5ECF6",
           "radialaxis": {
            "gridcolor": "white",
            "linecolor": "white",
            "ticks": ""
           }
          },
          "scene": {
           "xaxis": {
            "backgroundcolor": "#E5ECF6",
            "gridcolor": "white",
            "gridwidth": 2,
            "linecolor": "white",
            "showbackground": true,
            "ticks": "",
            "zerolinecolor": "white"
           },
           "yaxis": {
            "backgroundcolor": "#E5ECF6",
            "gridcolor": "white",
            "gridwidth": 2,
            "linecolor": "white",
            "showbackground": true,
            "ticks": "",
            "zerolinecolor": "white"
           },
           "zaxis": {
            "backgroundcolor": "#E5ECF6",
            "gridcolor": "white",
            "gridwidth": 2,
            "linecolor": "white",
            "showbackground": true,
            "ticks": "",
            "zerolinecolor": "white"
           }
          },
          "shapedefaults": {
           "line": {
            "color": "#2a3f5f"
           }
          },
          "ternary": {
           "aaxis": {
            "gridcolor": "white",
            "linecolor": "white",
            "ticks": ""
           },
           "baxis": {
            "gridcolor": "white",
            "linecolor": "white",
            "ticks": ""
           },
           "bgcolor": "#E5ECF6",
           "caxis": {
            "gridcolor": "white",
            "linecolor": "white",
            "ticks": ""
           }
          },
          "title": {
           "x": 0.05
          },
          "xaxis": {
           "automargin": true,
           "gridcolor": "white",
           "linecolor": "white",
           "ticks": "",
           "title": {
            "standoff": 15
           },
           "zerolinecolor": "white",
           "zerolinewidth": 2
          },
          "yaxis": {
           "automargin": true,
           "gridcolor": "white",
           "linecolor": "white",
           "ticks": "",
           "title": {
            "standoff": 15
           },
           "zerolinecolor": "white",
           "zerolinewidth": 2
          }
         }
        }
       }
      }
     },
     "metadata": {},
     "output_type": "display_data"
    },
    {
     "name": "stdout",
     "output_type": "stream",
     "text": [
      "===== val =====\n",
      "There are 3557 hospital admissions\n",
      "    70_200: 1375 (0.387)\n",
      "     55_70: 1070 (0.301)\n",
      "      0_55: 1112 (0.313)\n"
     ]
    },
    {
     "data": {
      "application/vnd.plotly.v1+json": {
       "config": {
        "linkText": "Export to plot.ly",
        "plotlyServerURL": "https://plot.ly",
        "showLink": false
       },
       "data": [
        {
         "marker": {
          "color": "red",
          "line": {
           "color": "red",
           "width": 0.1
          }
         },
         "type": "bar",
         "x": [
          0,
          1,
          2,
          3,
          4,
          5,
          6,
          7,
          8,
          9,
          10,
          11,
          12,
          13,
          14,
          15,
          16,
          17,
          18,
          19,
          20,
          21,
          22,
          23,
          24,
          25,
          26,
          27,
          28,
          29,
          30,
          31,
          32,
          33,
          34,
          35,
          36,
          37,
          38,
          39,
          40,
          41,
          42,
          43,
          44,
          45,
          46,
          47,
          48,
          49,
          50,
          51,
          52,
          53,
          54,
          55,
          56,
          57,
          58,
          59,
          60,
          61,
          62,
          63,
          64,
          65,
          66,
          67,
          68,
          69,
          70,
          71,
          72,
          73,
          74,
          75,
          76,
          77,
          78,
          79,
          80,
          81,
          82,
          83,
          84,
          85,
          86,
          87,
          88,
          89,
          90,
          91,
          92,
          93,
          94,
          95,
          96,
          97,
          98,
          99,
          100,
          101,
          102,
          103,
          104
         ],
         "y": [
          1,
          4,
          0,
          0,
          1,
          0,
          1,
          1,
          1,
          1,
          0,
          0,
          0,
          0,
          1,
          2,
          7,
          7,
          8,
          13,
          12,
          13,
          20,
          21,
          28,
          12,
          8,
          15,
          9,
          16,
          13,
          14,
          9,
          20,
          15,
          18,
          21,
          27,
          27,
          34,
          33,
          39,
          37,
          45,
          49,
          36,
          37,
          49,
          52,
          59,
          59,
          73,
          79,
          65,
          64,
          57,
          51,
          80,
          71,
          89,
          78,
          76,
          73,
          74,
          59,
          75,
          60,
          81,
          82,
          53,
          77,
          76,
          60,
          56,
          64,
          65,
          73,
          75,
          65,
          86,
          81,
          61,
          68,
          62,
          54,
          34,
          47,
          29,
          35,
          137,
          3,
          4,
          3,
          2,
          1,
          3,
          0,
          0,
          0,
          0,
          0,
          0,
          0,
          0,
          1
         ]
        }
       ],
       "layout": {
        "template": {
         "data": {
          "bar": [
           {
            "error_x": {
             "color": "#2a3f5f"
            },
            "error_y": {
             "color": "#2a3f5f"
            },
            "marker": {
             "line": {
              "color": "#E5ECF6",
              "width": 0.5
             },
             "pattern": {
              "fillmode": "overlay",
              "size": 10,
              "solidity": 0.2
             }
            },
            "type": "bar"
           }
          ],
          "barpolar": [
           {
            "marker": {
             "line": {
              "color": "#E5ECF6",
              "width": 0.5
             },
             "pattern": {
              "fillmode": "overlay",
              "size": 10,
              "solidity": 0.2
             }
            },
            "type": "barpolar"
           }
          ],
          "carpet": [
           {
            "aaxis": {
             "endlinecolor": "#2a3f5f",
             "gridcolor": "white",
             "linecolor": "white",
             "minorgridcolor": "white",
             "startlinecolor": "#2a3f5f"
            },
            "baxis": {
             "endlinecolor": "#2a3f5f",
             "gridcolor": "white",
             "linecolor": "white",
             "minorgridcolor": "white",
             "startlinecolor": "#2a3f5f"
            },
            "type": "carpet"
           }
          ],
          "choropleth": [
           {
            "colorbar": {
             "outlinewidth": 0,
             "ticks": ""
            },
            "type": "choropleth"
           }
          ],
          "contour": [
           {
            "colorbar": {
             "outlinewidth": 0,
             "ticks": ""
            },
            "colorscale": [
             [
              0,
              "#0d0887"
             ],
             [
              0.1111111111111111,
              "#46039f"
             ],
             [
              0.2222222222222222,
              "#7201a8"
             ],
             [
              0.3333333333333333,
              "#9c179e"
             ],
             [
              0.4444444444444444,
              "#bd3786"
             ],
             [
              0.5555555555555556,
              "#d8576b"
             ],
             [
              0.6666666666666666,
              "#ed7953"
             ],
             [
              0.7777777777777778,
              "#fb9f3a"
             ],
             [
              0.8888888888888888,
              "#fdca26"
             ],
             [
              1,
              "#f0f921"
             ]
            ],
            "type": "contour"
           }
          ],
          "contourcarpet": [
           {
            "colorbar": {
             "outlinewidth": 0,
             "ticks": ""
            },
            "type": "contourcarpet"
           }
          ],
          "heatmap": [
           {
            "colorbar": {
             "outlinewidth": 0,
             "ticks": ""
            },
            "colorscale": [
             [
              0,
              "#0d0887"
             ],
             [
              0.1111111111111111,
              "#46039f"
             ],
             [
              0.2222222222222222,
              "#7201a8"
             ],
             [
              0.3333333333333333,
              "#9c179e"
             ],
             [
              0.4444444444444444,
              "#bd3786"
             ],
             [
              0.5555555555555556,
              "#d8576b"
             ],
             [
              0.6666666666666666,
              "#ed7953"
             ],
             [
              0.7777777777777778,
              "#fb9f3a"
             ],
             [
              0.8888888888888888,
              "#fdca26"
             ],
             [
              1,
              "#f0f921"
             ]
            ],
            "type": "heatmap"
           }
          ],
          "heatmapgl": [
           {
            "colorbar": {
             "outlinewidth": 0,
             "ticks": ""
            },
            "colorscale": [
             [
              0,
              "#0d0887"
             ],
             [
              0.1111111111111111,
              "#46039f"
             ],
             [
              0.2222222222222222,
              "#7201a8"
             ],
             [
              0.3333333333333333,
              "#9c179e"
             ],
             [
              0.4444444444444444,
              "#bd3786"
             ],
             [
              0.5555555555555556,
              "#d8576b"
             ],
             [
              0.6666666666666666,
              "#ed7953"
             ],
             [
              0.7777777777777778,
              "#fb9f3a"
             ],
             [
              0.8888888888888888,
              "#fdca26"
             ],
             [
              1,
              "#f0f921"
             ]
            ],
            "type": "heatmapgl"
           }
          ],
          "histogram": [
           {
            "marker": {
             "pattern": {
              "fillmode": "overlay",
              "size": 10,
              "solidity": 0.2
             }
            },
            "type": "histogram"
           }
          ],
          "histogram2d": [
           {
            "colorbar": {
             "outlinewidth": 0,
             "ticks": ""
            },
            "colorscale": [
             [
              0,
              "#0d0887"
             ],
             [
              0.1111111111111111,
              "#46039f"
             ],
             [
              0.2222222222222222,
              "#7201a8"
             ],
             [
              0.3333333333333333,
              "#9c179e"
             ],
             [
              0.4444444444444444,
              "#bd3786"
             ],
             [
              0.5555555555555556,
              "#d8576b"
             ],
             [
              0.6666666666666666,
              "#ed7953"
             ],
             [
              0.7777777777777778,
              "#fb9f3a"
             ],
             [
              0.8888888888888888,
              "#fdca26"
             ],
             [
              1,
              "#f0f921"
             ]
            ],
            "type": "histogram2d"
           }
          ],
          "histogram2dcontour": [
           {
            "colorbar": {
             "outlinewidth": 0,
             "ticks": ""
            },
            "colorscale": [
             [
              0,
              "#0d0887"
             ],
             [
              0.1111111111111111,
              "#46039f"
             ],
             [
              0.2222222222222222,
              "#7201a8"
             ],
             [
              0.3333333333333333,
              "#9c179e"
             ],
             [
              0.4444444444444444,
              "#bd3786"
             ],
             [
              0.5555555555555556,
              "#d8576b"
             ],
             [
              0.6666666666666666,
              "#ed7953"
             ],
             [
              0.7777777777777778,
              "#fb9f3a"
             ],
             [
              0.8888888888888888,
              "#fdca26"
             ],
             [
              1,
              "#f0f921"
             ]
            ],
            "type": "histogram2dcontour"
           }
          ],
          "mesh3d": [
           {
            "colorbar": {
             "outlinewidth": 0,
             "ticks": ""
            },
            "type": "mesh3d"
           }
          ],
          "parcoords": [
           {
            "line": {
             "colorbar": {
              "outlinewidth": 0,
              "ticks": ""
             }
            },
            "type": "parcoords"
           }
          ],
          "pie": [
           {
            "automargin": true,
            "type": "pie"
           }
          ],
          "scatter": [
           {
            "marker": {
             "colorbar": {
              "outlinewidth": 0,
              "ticks": ""
             }
            },
            "type": "scatter"
           }
          ],
          "scatter3d": [
           {
            "line": {
             "colorbar": {
              "outlinewidth": 0,
              "ticks": ""
             }
            },
            "marker": {
             "colorbar": {
              "outlinewidth": 0,
              "ticks": ""
             }
            },
            "type": "scatter3d"
           }
          ],
          "scattercarpet": [
           {
            "marker": {
             "colorbar": {
              "outlinewidth": 0,
              "ticks": ""
             }
            },
            "type": "scattercarpet"
           }
          ],
          "scattergeo": [
           {
            "marker": {
             "colorbar": {
              "outlinewidth": 0,
              "ticks": ""
             }
            },
            "type": "scattergeo"
           }
          ],
          "scattergl": [
           {
            "marker": {
             "colorbar": {
              "outlinewidth": 0,
              "ticks": ""
             }
            },
            "type": "scattergl"
           }
          ],
          "scattermapbox": [
           {
            "marker": {
             "colorbar": {
              "outlinewidth": 0,
              "ticks": ""
             }
            },
            "type": "scattermapbox"
           }
          ],
          "scatterpolar": [
           {
            "marker": {
             "colorbar": {
              "outlinewidth": 0,
              "ticks": ""
             }
            },
            "type": "scatterpolar"
           }
          ],
          "scatterpolargl": [
           {
            "marker": {
             "colorbar": {
              "outlinewidth": 0,
              "ticks": ""
             }
            },
            "type": "scatterpolargl"
           }
          ],
          "scatterternary": [
           {
            "marker": {
             "colorbar": {
              "outlinewidth": 0,
              "ticks": ""
             }
            },
            "type": "scatterternary"
           }
          ],
          "surface": [
           {
            "colorbar": {
             "outlinewidth": 0,
             "ticks": ""
            },
            "colorscale": [
             [
              0,
              "#0d0887"
             ],
             [
              0.1111111111111111,
              "#46039f"
             ],
             [
              0.2222222222222222,
              "#7201a8"
             ],
             [
              0.3333333333333333,
              "#9c179e"
             ],
             [
              0.4444444444444444,
              "#bd3786"
             ],
             [
              0.5555555555555556,
              "#d8576b"
             ],
             [
              0.6666666666666666,
              "#ed7953"
             ],
             [
              0.7777777777777778,
              "#fb9f3a"
             ],
             [
              0.8888888888888888,
              "#fdca26"
             ],
             [
              1,
              "#f0f921"
             ]
            ],
            "type": "surface"
           }
          ],
          "table": [
           {
            "cells": {
             "fill": {
              "color": "#EBF0F8"
             },
             "line": {
              "color": "white"
             }
            },
            "header": {
             "fill": {
              "color": "#C8D4E3"
             },
             "line": {
              "color": "white"
             }
            },
            "type": "table"
           }
          ]
         },
         "layout": {
          "annotationdefaults": {
           "arrowcolor": "#2a3f5f",
           "arrowhead": 0,
           "arrowwidth": 1
          },
          "autotypenumbers": "strict",
          "coloraxis": {
           "colorbar": {
            "outlinewidth": 0,
            "ticks": ""
           }
          },
          "colorscale": {
           "diverging": [
            [
             0,
             "#8e0152"
            ],
            [
             0.1,
             "#c51b7d"
            ],
            [
             0.2,
             "#de77ae"
            ],
            [
             0.3,
             "#f1b6da"
            ],
            [
             0.4,
             "#fde0ef"
            ],
            [
             0.5,
             "#f7f7f7"
            ],
            [
             0.6,
             "#e6f5d0"
            ],
            [
             0.7,
             "#b8e186"
            ],
            [
             0.8,
             "#7fbc41"
            ],
            [
             0.9,
             "#4d9221"
            ],
            [
             1,
             "#276419"
            ]
           ],
           "sequential": [
            [
             0,
             "#0d0887"
            ],
            [
             0.1111111111111111,
             "#46039f"
            ],
            [
             0.2222222222222222,
             "#7201a8"
            ],
            [
             0.3333333333333333,
             "#9c179e"
            ],
            [
             0.4444444444444444,
             "#bd3786"
            ],
            [
             0.5555555555555556,
             "#d8576b"
            ],
            [
             0.6666666666666666,
             "#ed7953"
            ],
            [
             0.7777777777777778,
             "#fb9f3a"
            ],
            [
             0.8888888888888888,
             "#fdca26"
            ],
            [
             1,
             "#f0f921"
            ]
           ],
           "sequentialminus": [
            [
             0,
             "#0d0887"
            ],
            [
             0.1111111111111111,
             "#46039f"
            ],
            [
             0.2222222222222222,
             "#7201a8"
            ],
            [
             0.3333333333333333,
             "#9c179e"
            ],
            [
             0.4444444444444444,
             "#bd3786"
            ],
            [
             0.5555555555555556,
             "#d8576b"
            ],
            [
             0.6666666666666666,
             "#ed7953"
            ],
            [
             0.7777777777777778,
             "#fb9f3a"
            ],
            [
             0.8888888888888888,
             "#fdca26"
            ],
            [
             1,
             "#f0f921"
            ]
           ]
          },
          "colorway": [
           "#636efa",
           "#EF553B",
           "#00cc96",
           "#ab63fa",
           "#FFA15A",
           "#19d3f3",
           "#FF6692",
           "#B6E880",
           "#FF97FF",
           "#FECB52"
          ],
          "font": {
           "color": "#2a3f5f"
          },
          "geo": {
           "bgcolor": "white",
           "lakecolor": "white",
           "landcolor": "#E5ECF6",
           "showlakes": true,
           "showland": true,
           "subunitcolor": "white"
          },
          "hoverlabel": {
           "align": "left"
          },
          "hovermode": "closest",
          "mapbox": {
           "style": "light"
          },
          "paper_bgcolor": "white",
          "plot_bgcolor": "#E5ECF6",
          "polar": {
           "angularaxis": {
            "gridcolor": "white",
            "linecolor": "white",
            "ticks": ""
           },
           "bgcolor": "#E5ECF6",
           "radialaxis": {
            "gridcolor": "white",
            "linecolor": "white",
            "ticks": ""
           }
          },
          "scene": {
           "xaxis": {
            "backgroundcolor": "#E5ECF6",
            "gridcolor": "white",
            "gridwidth": 2,
            "linecolor": "white",
            "showbackground": true,
            "ticks": "",
            "zerolinecolor": "white"
           },
           "yaxis": {
            "backgroundcolor": "#E5ECF6",
            "gridcolor": "white",
            "gridwidth": 2,
            "linecolor": "white",
            "showbackground": true,
            "ticks": "",
            "zerolinecolor": "white"
           },
           "zaxis": {
            "backgroundcolor": "#E5ECF6",
            "gridcolor": "white",
            "gridwidth": 2,
            "linecolor": "white",
            "showbackground": true,
            "ticks": "",
            "zerolinecolor": "white"
           }
          },
          "shapedefaults": {
           "line": {
            "color": "#2a3f5f"
           }
          },
          "ternary": {
           "aaxis": {
            "gridcolor": "white",
            "linecolor": "white",
            "ticks": ""
           },
           "baxis": {
            "gridcolor": "white",
            "linecolor": "white",
            "ticks": ""
           },
           "bgcolor": "#E5ECF6",
           "caxis": {
            "gridcolor": "white",
            "linecolor": "white",
            "ticks": ""
           }
          },
          "title": {
           "x": 0.05
          },
          "xaxis": {
           "automargin": true,
           "gridcolor": "white",
           "linecolor": "white",
           "ticks": "",
           "title": {
            "standoff": 15
           },
           "zerolinecolor": "white",
           "zerolinewidth": 2
          },
          "yaxis": {
           "automargin": true,
           "gridcolor": "white",
           "linecolor": "white",
           "ticks": "",
           "title": {
            "standoff": 15
           },
           "zerolinecolor": "white",
           "zerolinewidth": 2
          }
         }
        }
       }
      }
     },
     "metadata": {},
     "output_type": "display_data"
    },
    {
     "name": "stdout",
     "output_type": "stream",
     "text": [
      "===== test =====\n",
      "There are 3621 hospital admissions\n",
      "    70_200: 1368 (0.378)\n",
      "      0_55: 1144 (0.316)\n",
      "     55_70: 1109 (0.306)\n"
     ]
    },
    {
     "data": {
      "application/vnd.plotly.v1+json": {
       "config": {
        "linkText": "Export to plot.ly",
        "plotlyServerURL": "https://plot.ly",
        "showLink": false
       },
       "data": [
        {
         "marker": {
          "color": "red",
          "line": {
           "color": "red",
           "width": 0.1
          }
         },
         "type": "bar",
         "x": [
          0,
          1,
          2,
          3,
          4,
          5,
          6,
          7,
          8,
          9,
          10,
          11,
          12,
          13,
          14,
          15,
          16,
          17,
          18,
          19,
          20,
          21,
          22,
          23,
          24,
          25,
          26,
          27,
          28,
          29,
          30,
          31,
          32,
          33,
          34,
          35,
          36,
          37,
          38,
          39,
          40,
          41,
          42,
          43,
          44,
          45,
          46,
          47,
          48,
          49,
          50,
          51,
          52,
          53,
          54,
          55,
          56,
          57,
          58,
          59,
          60,
          61,
          62,
          63,
          64,
          65,
          66,
          67,
          68,
          69,
          70,
          71,
          72,
          73,
          74,
          75,
          76,
          77,
          78,
          79,
          80,
          81,
          82,
          83,
          84,
          85,
          86,
          87,
          88,
          89,
          90,
          91,
          92,
          93,
          94,
          95
         ],
         "y": [
          1,
          1,
          0,
          3,
          1,
          0,
          0,
          0,
          0,
          0,
          0,
          0,
          1,
          2,
          4,
          6,
          16,
          15,
          23,
          10,
          17,
          11,
          15,
          24,
          17,
          13,
          18,
          22,
          19,
          10,
          11,
          20,
          29,
          21,
          23,
          27,
          43,
          36,
          34,
          33,
          29,
          31,
          47,
          40,
          46,
          57,
          43,
          49,
          42,
          55,
          54,
          66,
          59,
          83,
          58,
          87,
          65,
          68,
          71,
          67,
          70,
          82,
          79,
          60,
          87,
          75,
          92,
          65,
          62,
          53,
          72,
          69,
          58,
          72,
          66,
          89,
          58,
          57,
          66,
          63,
          58,
          60,
          85,
          56,
          63,
          32,
          31,
          24,
          133,
          19,
          10,
          5,
          3,
          1,
          0,
          3
         ]
        }
       ],
       "layout": {
        "template": {
         "data": {
          "bar": [
           {
            "error_x": {
             "color": "#2a3f5f"
            },
            "error_y": {
             "color": "#2a3f5f"
            },
            "marker": {
             "line": {
              "color": "#E5ECF6",
              "width": 0.5
             },
             "pattern": {
              "fillmode": "overlay",
              "size": 10,
              "solidity": 0.2
             }
            },
            "type": "bar"
           }
          ],
          "barpolar": [
           {
            "marker": {
             "line": {
              "color": "#E5ECF6",
              "width": 0.5
             },
             "pattern": {
              "fillmode": "overlay",
              "size": 10,
              "solidity": 0.2
             }
            },
            "type": "barpolar"
           }
          ],
          "carpet": [
           {
            "aaxis": {
             "endlinecolor": "#2a3f5f",
             "gridcolor": "white",
             "linecolor": "white",
             "minorgridcolor": "white",
             "startlinecolor": "#2a3f5f"
            },
            "baxis": {
             "endlinecolor": "#2a3f5f",
             "gridcolor": "white",
             "linecolor": "white",
             "minorgridcolor": "white",
             "startlinecolor": "#2a3f5f"
            },
            "type": "carpet"
           }
          ],
          "choropleth": [
           {
            "colorbar": {
             "outlinewidth": 0,
             "ticks": ""
            },
            "type": "choropleth"
           }
          ],
          "contour": [
           {
            "colorbar": {
             "outlinewidth": 0,
             "ticks": ""
            },
            "colorscale": [
             [
              0,
              "#0d0887"
             ],
             [
              0.1111111111111111,
              "#46039f"
             ],
             [
              0.2222222222222222,
              "#7201a8"
             ],
             [
              0.3333333333333333,
              "#9c179e"
             ],
             [
              0.4444444444444444,
              "#bd3786"
             ],
             [
              0.5555555555555556,
              "#d8576b"
             ],
             [
              0.6666666666666666,
              "#ed7953"
             ],
             [
              0.7777777777777778,
              "#fb9f3a"
             ],
             [
              0.8888888888888888,
              "#fdca26"
             ],
             [
              1,
              "#f0f921"
             ]
            ],
            "type": "contour"
           }
          ],
          "contourcarpet": [
           {
            "colorbar": {
             "outlinewidth": 0,
             "ticks": ""
            },
            "type": "contourcarpet"
           }
          ],
          "heatmap": [
           {
            "colorbar": {
             "outlinewidth": 0,
             "ticks": ""
            },
            "colorscale": [
             [
              0,
              "#0d0887"
             ],
             [
              0.1111111111111111,
              "#46039f"
             ],
             [
              0.2222222222222222,
              "#7201a8"
             ],
             [
              0.3333333333333333,
              "#9c179e"
             ],
             [
              0.4444444444444444,
              "#bd3786"
             ],
             [
              0.5555555555555556,
              "#d8576b"
             ],
             [
              0.6666666666666666,
              "#ed7953"
             ],
             [
              0.7777777777777778,
              "#fb9f3a"
             ],
             [
              0.8888888888888888,
              "#fdca26"
             ],
             [
              1,
              "#f0f921"
             ]
            ],
            "type": "heatmap"
           }
          ],
          "heatmapgl": [
           {
            "colorbar": {
             "outlinewidth": 0,
             "ticks": ""
            },
            "colorscale": [
             [
              0,
              "#0d0887"
             ],
             [
              0.1111111111111111,
              "#46039f"
             ],
             [
              0.2222222222222222,
              "#7201a8"
             ],
             [
              0.3333333333333333,
              "#9c179e"
             ],
             [
              0.4444444444444444,
              "#bd3786"
             ],
             [
              0.5555555555555556,
              "#d8576b"
             ],
             [
              0.6666666666666666,
              "#ed7953"
             ],
             [
              0.7777777777777778,
              "#fb9f3a"
             ],
             [
              0.8888888888888888,
              "#fdca26"
             ],
             [
              1,
              "#f0f921"
             ]
            ],
            "type": "heatmapgl"
           }
          ],
          "histogram": [
           {
            "marker": {
             "pattern": {
              "fillmode": "overlay",
              "size": 10,
              "solidity": 0.2
             }
            },
            "type": "histogram"
           }
          ],
          "histogram2d": [
           {
            "colorbar": {
             "outlinewidth": 0,
             "ticks": ""
            },
            "colorscale": [
             [
              0,
              "#0d0887"
             ],
             [
              0.1111111111111111,
              "#46039f"
             ],
             [
              0.2222222222222222,
              "#7201a8"
             ],
             [
              0.3333333333333333,
              "#9c179e"
             ],
             [
              0.4444444444444444,
              "#bd3786"
             ],
             [
              0.5555555555555556,
              "#d8576b"
             ],
             [
              0.6666666666666666,
              "#ed7953"
             ],
             [
              0.7777777777777778,
              "#fb9f3a"
             ],
             [
              0.8888888888888888,
              "#fdca26"
             ],
             [
              1,
              "#f0f921"
             ]
            ],
            "type": "histogram2d"
           }
          ],
          "histogram2dcontour": [
           {
            "colorbar": {
             "outlinewidth": 0,
             "ticks": ""
            },
            "colorscale": [
             [
              0,
              "#0d0887"
             ],
             [
              0.1111111111111111,
              "#46039f"
             ],
             [
              0.2222222222222222,
              "#7201a8"
             ],
             [
              0.3333333333333333,
              "#9c179e"
             ],
             [
              0.4444444444444444,
              "#bd3786"
             ],
             [
              0.5555555555555556,
              "#d8576b"
             ],
             [
              0.6666666666666666,
              "#ed7953"
             ],
             [
              0.7777777777777778,
              "#fb9f3a"
             ],
             [
              0.8888888888888888,
              "#fdca26"
             ],
             [
              1,
              "#f0f921"
             ]
            ],
            "type": "histogram2dcontour"
           }
          ],
          "mesh3d": [
           {
            "colorbar": {
             "outlinewidth": 0,
             "ticks": ""
            },
            "type": "mesh3d"
           }
          ],
          "parcoords": [
           {
            "line": {
             "colorbar": {
              "outlinewidth": 0,
              "ticks": ""
             }
            },
            "type": "parcoords"
           }
          ],
          "pie": [
           {
            "automargin": true,
            "type": "pie"
           }
          ],
          "scatter": [
           {
            "marker": {
             "colorbar": {
              "outlinewidth": 0,
              "ticks": ""
             }
            },
            "type": "scatter"
           }
          ],
          "scatter3d": [
           {
            "line": {
             "colorbar": {
              "outlinewidth": 0,
              "ticks": ""
             }
            },
            "marker": {
             "colorbar": {
              "outlinewidth": 0,
              "ticks": ""
             }
            },
            "type": "scatter3d"
           }
          ],
          "scattercarpet": [
           {
            "marker": {
             "colorbar": {
              "outlinewidth": 0,
              "ticks": ""
             }
            },
            "type": "scattercarpet"
           }
          ],
          "scattergeo": [
           {
            "marker": {
             "colorbar": {
              "outlinewidth": 0,
              "ticks": ""
             }
            },
            "type": "scattergeo"
           }
          ],
          "scattergl": [
           {
            "marker": {
             "colorbar": {
              "outlinewidth": 0,
              "ticks": ""
             }
            },
            "type": "scattergl"
           }
          ],
          "scattermapbox": [
           {
            "marker": {
             "colorbar": {
              "outlinewidth": 0,
              "ticks": ""
             }
            },
            "type": "scattermapbox"
           }
          ],
          "scatterpolar": [
           {
            "marker": {
             "colorbar": {
              "outlinewidth": 0,
              "ticks": ""
             }
            },
            "type": "scatterpolar"
           }
          ],
          "scatterpolargl": [
           {
            "marker": {
             "colorbar": {
              "outlinewidth": 0,
              "ticks": ""
             }
            },
            "type": "scatterpolargl"
           }
          ],
          "scatterternary": [
           {
            "marker": {
             "colorbar": {
              "outlinewidth": 0,
              "ticks": ""
             }
            },
            "type": "scatterternary"
           }
          ],
          "surface": [
           {
            "colorbar": {
             "outlinewidth": 0,
             "ticks": ""
            },
            "colorscale": [
             [
              0,
              "#0d0887"
             ],
             [
              0.1111111111111111,
              "#46039f"
             ],
             [
              0.2222222222222222,
              "#7201a8"
             ],
             [
              0.3333333333333333,
              "#9c179e"
             ],
             [
              0.4444444444444444,
              "#bd3786"
             ],
             [
              0.5555555555555556,
              "#d8576b"
             ],
             [
              0.6666666666666666,
              "#ed7953"
             ],
             [
              0.7777777777777778,
              "#fb9f3a"
             ],
             [
              0.8888888888888888,
              "#fdca26"
             ],
             [
              1,
              "#f0f921"
             ]
            ],
            "type": "surface"
           }
          ],
          "table": [
           {
            "cells": {
             "fill": {
              "color": "#EBF0F8"
             },
             "line": {
              "color": "white"
             }
            },
            "header": {
             "fill": {
              "color": "#C8D4E3"
             },
             "line": {
              "color": "white"
             }
            },
            "type": "table"
           }
          ]
         },
         "layout": {
          "annotationdefaults": {
           "arrowcolor": "#2a3f5f",
           "arrowhead": 0,
           "arrowwidth": 1
          },
          "autotypenumbers": "strict",
          "coloraxis": {
           "colorbar": {
            "outlinewidth": 0,
            "ticks": ""
           }
          },
          "colorscale": {
           "diverging": [
            [
             0,
             "#8e0152"
            ],
            [
             0.1,
             "#c51b7d"
            ],
            [
             0.2,
             "#de77ae"
            ],
            [
             0.3,
             "#f1b6da"
            ],
            [
             0.4,
             "#fde0ef"
            ],
            [
             0.5,
             "#f7f7f7"
            ],
            [
             0.6,
             "#e6f5d0"
            ],
            [
             0.7,
             "#b8e186"
            ],
            [
             0.8,
             "#7fbc41"
            ],
            [
             0.9,
             "#4d9221"
            ],
            [
             1,
             "#276419"
            ]
           ],
           "sequential": [
            [
             0,
             "#0d0887"
            ],
            [
             0.1111111111111111,
             "#46039f"
            ],
            [
             0.2222222222222222,
             "#7201a8"
            ],
            [
             0.3333333333333333,
             "#9c179e"
            ],
            [
             0.4444444444444444,
             "#bd3786"
            ],
            [
             0.5555555555555556,
             "#d8576b"
            ],
            [
             0.6666666666666666,
             "#ed7953"
            ],
            [
             0.7777777777777778,
             "#fb9f3a"
            ],
            [
             0.8888888888888888,
             "#fdca26"
            ],
            [
             1,
             "#f0f921"
            ]
           ],
           "sequentialminus": [
            [
             0,
             "#0d0887"
            ],
            [
             0.1111111111111111,
             "#46039f"
            ],
            [
             0.2222222222222222,
             "#7201a8"
            ],
            [
             0.3333333333333333,
             "#9c179e"
            ],
            [
             0.4444444444444444,
             "#bd3786"
            ],
            [
             0.5555555555555556,
             "#d8576b"
            ],
            [
             0.6666666666666666,
             "#ed7953"
            ],
            [
             0.7777777777777778,
             "#fb9f3a"
            ],
            [
             0.8888888888888888,
             "#fdca26"
            ],
            [
             1,
             "#f0f921"
            ]
           ]
          },
          "colorway": [
           "#636efa",
           "#EF553B",
           "#00cc96",
           "#ab63fa",
           "#FFA15A",
           "#19d3f3",
           "#FF6692",
           "#B6E880",
           "#FF97FF",
           "#FECB52"
          ],
          "font": {
           "color": "#2a3f5f"
          },
          "geo": {
           "bgcolor": "white",
           "lakecolor": "white",
           "landcolor": "#E5ECF6",
           "showlakes": true,
           "showland": true,
           "subunitcolor": "white"
          },
          "hoverlabel": {
           "align": "left"
          },
          "hovermode": "closest",
          "mapbox": {
           "style": "light"
          },
          "paper_bgcolor": "white",
          "plot_bgcolor": "#E5ECF6",
          "polar": {
           "angularaxis": {
            "gridcolor": "white",
            "linecolor": "white",
            "ticks": ""
           },
           "bgcolor": "#E5ECF6",
           "radialaxis": {
            "gridcolor": "white",
            "linecolor": "white",
            "ticks": ""
           }
          },
          "scene": {
           "xaxis": {
            "backgroundcolor": "#E5ECF6",
            "gridcolor": "white",
            "gridwidth": 2,
            "linecolor": "white",
            "showbackground": true,
            "ticks": "",
            "zerolinecolor": "white"
           },
           "yaxis": {
            "backgroundcolor": "#E5ECF6",
            "gridcolor": "white",
            "gridwidth": 2,
            "linecolor": "white",
            "showbackground": true,
            "ticks": "",
            "zerolinecolor": "white"
           },
           "zaxis": {
            "backgroundcolor": "#E5ECF6",
            "gridcolor": "white",
            "gridwidth": 2,
            "linecolor": "white",
            "showbackground": true,
            "ticks": "",
            "zerolinecolor": "white"
           }
          },
          "shapedefaults": {
           "line": {
            "color": "#2a3f5f"
           }
          },
          "ternary": {
           "aaxis": {
            "gridcolor": "white",
            "linecolor": "white",
            "ticks": ""
           },
           "baxis": {
            "gridcolor": "white",
            "linecolor": "white",
            "ticks": ""
           },
           "bgcolor": "#E5ECF6",
           "caxis": {
            "gridcolor": "white",
            "linecolor": "white",
            "ticks": ""
           }
          },
          "title": {
           "x": 0.05
          },
          "xaxis": {
           "automargin": true,
           "gridcolor": "white",
           "linecolor": "white",
           "ticks": "",
           "title": {
            "standoff": 15
           },
           "zerolinecolor": "white",
           "zerolinewidth": 2
          },
          "yaxis": {
           "automargin": true,
           "gridcolor": "white",
           "linecolor": "white",
           "ticks": "",
           "title": {
            "standoff": 15
           },
           "zerolinecolor": "white",
           "zerolinewidth": 2
          }
         }
        }
       }
      }
     },
     "metadata": {},
     "output_type": "display_data"
    },
    {
     "name": "stdout",
     "output_type": "stream",
     "text": [
      "- Saving the subtask file to ./splits/subtasks/age/test/70_200.txt\n",
      "- Saving the subtask file to ./splits/subtasks/age/test/0_55.txt\n",
      "- Saving the subtask file to ./splits/subtasks/age/test/55_70.txt\n"
     ]
    }
   ],
   "source": [
    "import plotly.offline as py\n",
    "import plotly.graph_objs as go\n",
    "import matplotlib.pyplot as plt\n",
    "\n",
    "info = json.load(open('./splits/age_sex_info.json', 'r'))\n",
    "age_range = [(0, 55), (55, 70), (70, 200)]\n",
    "\n",
    "for split in ['train', 'val', 'test']:\n",
    "    path = os.path.join('./splits/', split+'.csv')\n",
    "    df = pd.read_csv(path)\n",
    "\n",
    "    age_count = [0] * 200\n",
    "    min_age, max_age = 200, 0\n",
    "    subtask_age = defaultdict(list)\n",
    "    for i in range(len(df)):\n",
    "        key = df.iloc[i]['key']\n",
    "        age = info['key_info'][key]['age']\n",
    "        age_count[age] += 1\n",
    "        min_age = min(min_age, age)\n",
    "        max_age = max(max_age, age)\n",
    "\n",
    "        for begin, end in age_range:\n",
    "            k = f'{begin}_{end}'\n",
    "            if begin <= age < end:\n",
    "                subtask_age[k].append(key)\n",
    "    \n",
    "    print(f'===== {split} =====')\n",
    "    print('There are %d hospital admissions' % len(df))\n",
    "    for k, v in subtask_age.items():\n",
    "        print('%10s: %d (%.3f)' % (k, len(v), len(v) / len(df)))\n",
    "\n",
    "    x = [_ for _ in range(max_age - min_age + 1)]\n",
    "    y = age_count[min_age:max_age+1]\n",
    "    py.iplot([go.Bar(x=x, y=y, marker={'color': 'red', 'line': {'width': 0.1, 'color': 'red'}})])\n",
    "    plt.show()\n",
    "    \n",
    "    if split == 'test':\n",
    "        for k, v in subtask_age.items():\n",
    "            save_path = f'./splits/subtasks/age/{split}'\n",
    "            os.makedirs(save_path, exist_ok=True)\n",
    "            save_path = os.path.join(save_path, f'{k}.txt')\n",
    "            \n",
    "            print('- Saving the subtask file to', save_path)\n",
    "            with open(save_path, 'w') as f:\n",
    "                f.write('\\n'.join(v))\n"
   ]
  },
  {
   "cell_type": "markdown",
   "metadata": {},
   "source": [
    "# Subtask for different diseases"
   ]
  },
  {
   "cell_type": "code",
   "execution_count": 9,
   "metadata": {},
   "outputs": [
    {
     "name": "stdout",
     "output_type": "stream",
     "text": [
      "===== test =====\n",
      "There are 3621 hospital admissions, only 3621 of them have Dx codes\n",
      "D_401.9 Hypertension NOS -------- Unspecified essential hypertension\n",
      "1 this coverage: 1600 1354\n",
      "1  all coverage: 1600\n",
      "D_272.4 Hyperlipidemia NEC/NOS -------- Other and unspecified hyperlipidemia\n",
      "2 this coverage: 1187 981\n",
      "2  all coverage: 2031\n",
      "D_427.31 Atrial fibrillation -------- Atrial fibrillation\n",
      "3 this coverage: 1162 961\n",
      "3  all coverage: 2457\n",
      "D_414.01 Crnry athrscl natve vssl -------- Coronary atherosclerosis of native coronary artery\n",
      "4 this coverage: 1103 898\n",
      "4  all coverage: 2605\n",
      "D_250.00 DMII wo cmp nt st uncntr -------- Diabetes mellitus without mention of complication, type II or unspecified type, not stated as uncontrolled\n",
      "5 this coverage: 1072 768\n",
      "5  all coverage: 2771\n",
      "D_276.2 Acidosis -------- Acidosis\n",
      "6 this coverage: 1019 870\n",
      "6  all coverage: 3001\n",
      "D_285.9 Anemia NOS -------- Anemia, unspecified\n",
      "7 this coverage: 1018 868\n",
      "7  all coverage: 3131\n",
      "D_428.0 CHF NOS -------- Congestive heart failure, unspecified\n",
      "8 this coverage: 908 710\n",
      "8  all coverage: 3163\n",
      "D_518.81 Acute respiratry failure -------- Acute respiratory failure\n",
      "9 this coverage: 827 712\n",
      "9  all coverage: 3243\n",
      "D_584.9 Acute kidney failure NOS -------- Acute kidney failure, unspecified\n",
      "10 this coverage: 759 644\n",
      "10  all coverage: 3259\n",
      "- Saving the subtask file to ./splits/subtasks/disease/test/D_401.txt\n",
      "- Saving the subtask file to ./splits/subtasks/disease/test/D_272.txt\n",
      "- Saving the subtask file to ./splits/subtasks/disease/test/D_427.txt\n",
      "- Saving the subtask file to ./splits/subtasks/disease/test/D_414.txt\n",
      "- Saving the subtask file to ./splits/subtasks/disease/test/D_250.txt\n",
      "- Saving the subtask file to ./splits/subtasks/disease/test/D_276.txt\n",
      "- Saving the subtask file to ./splits/subtasks/disease/test/D_285.txt\n",
      "- Saving the subtask file to ./splits/subtasks/disease/test/D_428.txt\n",
      "- Saving the subtask file to ./splits/subtasks/disease/test/D_518.txt\n",
      "- Saving the subtask file to ./splits/subtasks/disease/test/D_584.txt\n"
     ]
    }
   ],
   "source": [
    "from collections import Counter, defaultdict\n",
    "\n",
    "def find(data, mapping, string):\n",
    "    n_string = string[2:].replace('.', '').strip()\n",
    "    pos = mapping[n_string]\n",
    "    print(string, data.iloc[pos]['SHORT_TITLE'], '--------', data.iloc[pos]['LONG_TITLE'])\n",
    "\n",
    "data = pd.read_csv('./D_ICD_DIAGNOSES.csv')\n",
    "mapping = list(data['ICD9_CODE'])\n",
    "mapping = {str(v).strip(): i for i, v in enumerate(mapping)}\n",
    "\n",
    "aid2dx = pickle.load(open('./diagnose-procedure-medication/admDxMap_mimic3.pk', 'rb'))\n",
    "# you should run the cmd below to get adjacent_matrix_code_map.pkl\n",
    "# python pretreatments/prepare_codes_adjacent_matrix.py\n",
    "code_map = pickle.load(open('./info/adjacent_matrix_code_map.pkl', 'rb'))\n",
    "\n",
    "topk = 10\n",
    "all_codes = []\n",
    "# for split in ['train', 'val', 'test']:\n",
    "for split in ['test']:\n",
    "    key2code = {}\n",
    "    code2key = defaultdict(set)\n",
    "    path = os.path.join('./splits/', split+'.csv')\n",
    "    df = pd.read_csv(path)\n",
    "\n",
    "    for i in range(len(df)):\n",
    "        key = df.iloc[i]['key']\n",
    "        aid = int(key.split('_')[1])\n",
    "        if aid not in aid2dx:\n",
    "            continue\n",
    "        \n",
    "        key2code[key] = set(aid2dx[aid])\n",
    "\n",
    "        for code in key2code[key]:\n",
    "            if code not in code_map:\n",
    "                continue\n",
    "            \n",
    "            all_codes.append(code)\n",
    "            code2key[code.split('.')[0]].add(key)\n",
    "\n",
    "    print(f'===== {split} =====')\n",
    "    print('There are %d hospital admissions, only %d of them have Dx codes' % (len(df), len(key2code)))\n",
    "\n",
    "    all_codes = Counter(all_codes)\n",
    "    all_codes = sorted([(k, v) for k, v in all_codes.items()], key=lambda x: -x[1])\n",
    "    code2key = sorted([(k, v) for k, v in code2key.items()], key=lambda x: -len(x[1]))\n",
    "\n",
    "    cover_keys = set()\n",
    "    subtask_disease = {}\n",
    "    \n",
    "    for i in range(topk):\n",
    "        code_prefix = code2key[i][0]\n",
    "        for k, v in all_codes:\n",
    "            if code_prefix in k:\n",
    "                one_of_code = k\n",
    "                break\n",
    "        \n",
    "        find(data, mapping, one_of_code)\n",
    "        this_keys = code2key[i][1]\n",
    "        cover_keys = cover_keys | this_keys\n",
    "        print(i+1, 'this coverage:', len(this_keys), len(set([key.split('_')[0] for key in this_keys])))\n",
    "        print(i+1, ' all coverage:', len(cover_keys))\n",
    "\n",
    "        subtask_disease[code_prefix] = list(this_keys)\n",
    "    \n",
    "    if split == 'test':\n",
    "        for k, v in subtask_disease.items():\n",
    "            save_path = f'./splits/subtasks/disease/{split}'\n",
    "            os.makedirs(save_path, exist_ok=True)\n",
    "            save_path = os.path.join(save_path, f'{k}.txt')\n",
    "            \n",
    "            print('- Saving the subtask file to', save_path)\n",
    "            with open(save_path, 'w') as f:\n",
    "                f.write('\\n'.join(v))\n"
   ]
  },
  {
   "cell_type": "code",
   "execution_count": null,
   "metadata": {},
   "outputs": [],
   "source": []
  }
 ],
 "metadata": {
  "kernelspec": {
   "display_name": "Python 3.9.0 64-bit ('mimic')",
   "language": "python",
   "name": "python3"
  },
  "language_info": {
   "codemirror_mode": {
    "name": "ipython",
    "version": 3
   },
   "file_extension": ".py",
   "mimetype": "text/x-python",
   "name": "python",
   "nbconvert_exporter": "python",
   "pygments_lexer": "ipython3",
   "version": "3.9.0"
  },
  "vscode": {
   "interpreter": {
    "hash": "047ebb28b8bc2853b73ad885d89f8ceb32bf85f6d39600b3319df1271832a1f9"
   }
  }
 },
 "nbformat": 4,
 "nbformat_minor": 2
}
